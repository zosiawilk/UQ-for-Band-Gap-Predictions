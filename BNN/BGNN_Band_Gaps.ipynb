{
 "cells": [
  {
   "cell_type": "markdown",
   "id": "61927d38",
   "metadata": {},
   "source": [
    "# Baysian Graph Neural Networks for Band Gap predcitions "
   ]
  },
  {
   "cell_type": "markdown",
   "id": "0def2295",
   "metadata": {},
   "source": [
    "### imports "
   ]
  },
  {
   "cell_type": "code",
   "execution_count": 1,
   "id": "a1d2ec82",
   "metadata": {},
   "outputs": [],
   "source": [
    "import pandas as pd \n",
    "import numpy as np\n",
    "import matplotlib.pyplot as plt\n",
    "import ast\n",
    "from pymatgen.core import Structure\n",
    "from pymatgen.analysis.graphs import StructureGraph\n",
    "from pymatgen.analysis.local_env import CrystalNN\n",
    "from torch_geometric.data import Data\n",
    "import torch\n",
    "from sklearn.model_selection import train_test_split\n",
    "from torch_geometric.loader import DataLoader\n",
    "from GBNN_model import BayesianGCN\n",
    "import pyro\n",
    "from pyro.infer import SVI, Trace_ELBO\n",
    "from pyro.infer.autoguide import AutoDiagonalNormal\n",
    "from pyro.optim import Adam\n",
    "from tqdm import trange\n",
    "from pyro.infer import Predictive\n",
    "from sklearn.metrics import r2_score, mean_absolute_error, mean_squared_error\n",
    "from torch_geometric.utils import to_networkx\n",
    "import networkx as nx\n",
    "from pymatgen.core import Element\n",
    "from sklearn.preprocessing import StandardScaler\n",
    "\n",
    "\n"
   ]
  },
  {
   "cell_type": "code",
   "execution_count": 2,
   "id": "b9b8c78f",
   "metadata": {},
   "outputs": [],
   "source": [
    "df_mp = pd.read_csv('/home/april-ai/Desktop/UQ/MP_Data_Corrected/mp_data_100k_cleaned2.csv')"
   ]
  },
  {
   "cell_type": "code",
   "execution_count": 3,
   "id": "29f299aa",
   "metadata": {},
   "outputs": [
    {
     "data": {
      "text/html": [
       "<div>\n",
       "<style scoped>\n",
       "    .dataframe tbody tr th:only-of-type {\n",
       "        vertical-align: middle;\n",
       "    }\n",
       "\n",
       "    .dataframe tbody tr th {\n",
       "        vertical-align: top;\n",
       "    }\n",
       "\n",
       "    .dataframe thead th {\n",
       "        text-align: right;\n",
       "    }\n",
       "</style>\n",
       "<table border=\"1\" class=\"dataframe\">\n",
       "  <thead>\n",
       "    <tr style=\"text-align: right;\">\n",
       "      <th></th>\n",
       "      <th>Unnamed: 0.1</th>\n",
       "      <th>Unnamed: 0</th>\n",
       "      <th>nsites</th>\n",
       "      <th>composition</th>\n",
       "      <th>formula_pretty</th>\n",
       "      <th>volume</th>\n",
       "      <th>symmetry</th>\n",
       "      <th>material_id</th>\n",
       "      <th>structure</th>\n",
       "      <th>formation_energy_per_atom</th>\n",
       "      <th>...</th>\n",
       "      <th>mean ordering parameter shell 3</th>\n",
       "      <th>max packing efficiency</th>\n",
       "      <th>structural complexity per atom</th>\n",
       "      <th>structural complexity per cell</th>\n",
       "      <th>spacegroup_num</th>\n",
       "      <th>crystal_system</th>\n",
       "      <th>crystal_system_int</th>\n",
       "      <th>is_centrosymmetric</th>\n",
       "      <th>n_symmetry_ops</th>\n",
       "      <th>dimensionality</th>\n",
       "    </tr>\n",
       "  </thead>\n",
       "  <tbody>\n",
       "    <tr>\n",
       "      <th>0</th>\n",
       "      <td>0</td>\n",
       "      <td>99994</td>\n",
       "      <td>10</td>\n",
       "      <td>Sr1 Cr1 H1 O2</td>\n",
       "      <td>SrCrHO2</td>\n",
       "      <td>116.010397</td>\n",
       "      <td>{'crystal_system': 'Tetragonal', 'symbol': 'P4...</td>\n",
       "      <td>mp-1218324</td>\n",
       "      <td>{'@module': 'pymatgen.core.structure', '@class...</td>\n",
       "      <td>-2.090215</td>\n",
       "      <td>...</td>\n",
       "      <td>NaN</td>\n",
       "      <td>NaN</td>\n",
       "      <td>NaN</td>\n",
       "      <td>NaN</td>\n",
       "      <td>NaN</td>\n",
       "      <td>NaN</td>\n",
       "      <td>NaN</td>\n",
       "      <td>NaN</td>\n",
       "      <td>NaN</td>\n",
       "      <td>NaN</td>\n",
       "    </tr>\n",
       "    <tr>\n",
       "      <th>1</th>\n",
       "      <td>1</td>\n",
       "      <td>28876</td>\n",
       "      <td>12</td>\n",
       "      <td>Sc1 I1 O1</td>\n",
       "      <td>ScIO</td>\n",
       "      <td>279.252151</td>\n",
       "      <td>{'crystal_system': 'Monoclinic', 'symbol': 'C2...</td>\n",
       "      <td>mp-559760</td>\n",
       "      <td>{'@module': 'pymatgen.core.structure', '@class...</td>\n",
       "      <td>-2.891759</td>\n",
       "      <td>...</td>\n",
       "      <td>NaN</td>\n",
       "      <td>NaN</td>\n",
       "      <td>NaN</td>\n",
       "      <td>NaN</td>\n",
       "      <td>NaN</td>\n",
       "      <td>NaN</td>\n",
       "      <td>NaN</td>\n",
       "      <td>NaN</td>\n",
       "      <td>NaN</td>\n",
       "      <td>NaN</td>\n",
       "    </tr>\n",
       "    <tr>\n",
       "      <th>2</th>\n",
       "      <td>2</td>\n",
       "      <td>41418</td>\n",
       "      <td>40</td>\n",
       "      <td>Ga3 Bi5 Cl12</td>\n",
       "      <td>Ga3Bi5Cl12</td>\n",
       "      <td>1302.857133</td>\n",
       "      <td>{'crystal_system': 'Trigonal', 'symbol': 'R3c'...</td>\n",
       "      <td>mp-569854</td>\n",
       "      <td>{'@module': 'pymatgen.core.structure', '@class...</td>\n",
       "      <td>-1.229581</td>\n",
       "      <td>...</td>\n",
       "      <td>NaN</td>\n",
       "      <td>NaN</td>\n",
       "      <td>NaN</td>\n",
       "      <td>NaN</td>\n",
       "      <td>NaN</td>\n",
       "      <td>NaN</td>\n",
       "      <td>NaN</td>\n",
       "      <td>NaN</td>\n",
       "      <td>NaN</td>\n",
       "      <td>NaN</td>\n",
       "    </tr>\n",
       "    <tr>\n",
       "      <th>3</th>\n",
       "      <td>3</td>\n",
       "      <td>41414</td>\n",
       "      <td>10</td>\n",
       "      <td>Ag1 N1 O3</td>\n",
       "      <td>AgNO3</td>\n",
       "      <td>125.104504</td>\n",
       "      <td>{'crystal_system': 'Trigonal', 'symbol': 'R3c'...</td>\n",
       "      <td>mp-552185</td>\n",
       "      <td>{'@module': 'pymatgen.core.structure', '@class...</td>\n",
       "      <td>-0.680664</td>\n",
       "      <td>...</td>\n",
       "      <td>NaN</td>\n",
       "      <td>NaN</td>\n",
       "      <td>NaN</td>\n",
       "      <td>NaN</td>\n",
       "      <td>NaN</td>\n",
       "      <td>NaN</td>\n",
       "      <td>NaN</td>\n",
       "      <td>NaN</td>\n",
       "      <td>NaN</td>\n",
       "      <td>NaN</td>\n",
       "    </tr>\n",
       "    <tr>\n",
       "      <th>4</th>\n",
       "      <td>4</td>\n",
       "      <td>28883</td>\n",
       "      <td>24</td>\n",
       "      <td>Tl1 Cr3 O8</td>\n",
       "      <td>TlCr3O8</td>\n",
       "      <td>361.671041</td>\n",
       "      <td>{'crystal_system': 'Monoclinic', 'symbol': 'C2...</td>\n",
       "      <td>mp-561221</td>\n",
       "      <td>{'@module': 'pymatgen.core.structure', '@class...</td>\n",
       "      <td>-1.778230</td>\n",
       "      <td>...</td>\n",
       "      <td>NaN</td>\n",
       "      <td>NaN</td>\n",
       "      <td>NaN</td>\n",
       "      <td>NaN</td>\n",
       "      <td>NaN</td>\n",
       "      <td>NaN</td>\n",
       "      <td>NaN</td>\n",
       "      <td>NaN</td>\n",
       "      <td>NaN</td>\n",
       "      <td>NaN</td>\n",
       "    </tr>\n",
       "  </tbody>\n",
       "</table>\n",
       "<p>5 rows × 314 columns</p>\n",
       "</div>"
      ],
      "text/plain": [
       "   Unnamed: 0.1  Unnamed: 0  nsites    composition formula_pretty  \\\n",
       "0             0       99994      10  Sr1 Cr1 H1 O2        SrCrHO2   \n",
       "1             1       28876      12      Sc1 I1 O1           ScIO   \n",
       "2             2       41418      40   Ga3 Bi5 Cl12     Ga3Bi5Cl12   \n",
       "3             3       41414      10      Ag1 N1 O3          AgNO3   \n",
       "4             4       28883      24     Tl1 Cr3 O8        TlCr3O8   \n",
       "\n",
       "        volume                                           symmetry material_id  \\\n",
       "0   116.010397  {'crystal_system': 'Tetragonal', 'symbol': 'P4...  mp-1218324   \n",
       "1   279.252151  {'crystal_system': 'Monoclinic', 'symbol': 'C2...   mp-559760   \n",
       "2  1302.857133  {'crystal_system': 'Trigonal', 'symbol': 'R3c'...   mp-569854   \n",
       "3   125.104504  {'crystal_system': 'Trigonal', 'symbol': 'R3c'...   mp-552185   \n",
       "4   361.671041  {'crystal_system': 'Monoclinic', 'symbol': 'C2...   mp-561221   \n",
       "\n",
       "                                           structure  \\\n",
       "0  {'@module': 'pymatgen.core.structure', '@class...   \n",
       "1  {'@module': 'pymatgen.core.structure', '@class...   \n",
       "2  {'@module': 'pymatgen.core.structure', '@class...   \n",
       "3  {'@module': 'pymatgen.core.structure', '@class...   \n",
       "4  {'@module': 'pymatgen.core.structure', '@class...   \n",
       "\n",
       "   formation_energy_per_atom  ...  mean ordering parameter shell 3  \\\n",
       "0                  -2.090215  ...                              NaN   \n",
       "1                  -2.891759  ...                              NaN   \n",
       "2                  -1.229581  ...                              NaN   \n",
       "3                  -0.680664  ...                              NaN   \n",
       "4                  -1.778230  ...                              NaN   \n",
       "\n",
       "   max packing efficiency  structural complexity per atom  \\\n",
       "0                     NaN                             NaN   \n",
       "1                     NaN                             NaN   \n",
       "2                     NaN                             NaN   \n",
       "3                     NaN                             NaN   \n",
       "4                     NaN                             NaN   \n",
       "\n",
       "   structural complexity per cell  spacegroup_num  crystal_system  \\\n",
       "0                             NaN             NaN             NaN   \n",
       "1                             NaN             NaN             NaN   \n",
       "2                             NaN             NaN             NaN   \n",
       "3                             NaN             NaN             NaN   \n",
       "4                             NaN             NaN             NaN   \n",
       "\n",
       "   crystal_system_int  is_centrosymmetric  n_symmetry_ops  dimensionality  \n",
       "0                 NaN                 NaN             NaN             NaN  \n",
       "1                 NaN                 NaN             NaN             NaN  \n",
       "2                 NaN                 NaN             NaN             NaN  \n",
       "3                 NaN                 NaN             NaN             NaN  \n",
       "4                 NaN                 NaN             NaN             NaN  \n",
       "\n",
       "[5 rows x 314 columns]"
      ]
     },
     "execution_count": 3,
     "metadata": {},
     "output_type": "execute_result"
    }
   ],
   "source": [
    "df_mp.head()"
   ]
  },
  {
   "cell_type": "code",
   "execution_count": 4,
   "id": "3c64a900",
   "metadata": {},
   "outputs": [
    {
     "data": {
      "text/plain": [
       "\"{'@module': 'pymatgen.core.structure', '@class': 'Structure', 'charge': 0, 'lattice': {'matrix': [[4.010959, -2e-06, 3.605534999999999], [4.010959, 2e-06, -3.605534999999999], [0.0, 4.010968, -3.605537]], 'pbc': [True, True, True], 'a': 5.393299058638413, 'b': 5.393299058638413, 'c': 5.39330708891984, 'alpha': 63.45372175240732, 'beta': 116.54627824759268, 'gamma': 83.90607221672619, 'volume': 116.01039743935735}, 'properties': {}, 'sites': [{'species': [{'element': 'Sr', 'occu': 1}], 'abc': [0.749997999999999, 0.75, 0.5], 'properties': {'magmom': -0.0}, 'label': 'Sr', 'xyz': [6.016430478081996, 2.005484000004, -1.8027757110700036]}, {'species': [{'element': 'Sr', 'occu': 1}], 'abc': [0.249998, 0.250001, 0.499998999999999], 'properties': {'magmom': -0.0}, 'label': 'Sr', 'xyz': [2.005475489041, 2.005479989037996, -1.8027757110679965]}, {'species': [{'element': 'Cr', 'occu': 1}], 'abc': [0.500012999999999, 0.499992999999999, 1.6000000000000003e-05], 'properties': {'magmom': -2.922}, 'label': 'Cr', 'xyz': [4.010983065753992, 6.417544800000001e-05, 1.442210800016901e-05]}, {'species': [{'element': 'Cr', 'occu': 1}], 'abc': [0.999997999999999, 2e-06, 0.9999849999999991], 'properties': {'magmom': 2.922}, 'label': 'Cr', 'xyz': [4.010958999999996, 4.010905835487996, 3.7660914998854505e-05]}, {'species': [{'element': 'H', 'occu': 1}], 'abc': [0.249993, 0.750004999999999, 0.0], 'properties': {'magmom': -0.0}, 'label': 'H', 'xyz': [4.010950978081996, 1.000023999999998e-06, -1.802810766419996]}, {'species': [{'element': 'H', 'occu': 1}], 'abc': [0.750003, 0.249996, 0.999999], 'properties': {'magmom': 0.0}, 'label': 'H', 'xyz': [4.010954989040999, 4.010962989018, -1.8027406557180006]}, {'species': [{'element': 'O', 'occu': 1}], 'abc': [0.249998, 0.75, 0.499996], 'properties': {'magmom': 0.0}, 'label': 'O', 'xyz': [4.010950978082, 2.005468956132, -3.6055287889219994]}, {'species': [{'element': 'O', 'occu': 1}], 'abc': [0.75, 0.25, 0.500003], 'properties': {'magmom': 0.0}, 'label': 'O', 'xyz': [4.010959, 2.0054950329039998, -1.1816611000716656e-05]}, {'species': [{'element': 'O', 'occu': 1}], 'abc': [0.249998, 0.250002, 0.0], 'properties': {'magmom': 0.0}, 'label': 'O', 'xyz': [2.0054795, 8.000000000008537e-12, -1.4422140000019963e-05]}, {'species': [{'element': 'O', 'occu': 1}], 'abc': [0.75, 0.750000999999999, 2e-06], 'properties': {'magmom': -0.0}, 'label': 'O', 'xyz': [6.016442510958996, 8.021937999999997e-06, -1.0816608996723069e-05]}]}\""
      ]
     },
     "execution_count": 4,
     "metadata": {},
     "output_type": "execute_result"
    }
   ],
   "source": [
    "df_mp[\"structure\"][0]"
   ]
  },
  {
   "cell_type": "code",
   "execution_count": 5,
   "id": "36800193",
   "metadata": {},
   "outputs": [],
   "source": [
    "# Example for one row\n",
    "structure_str = df_mp.loc[4, \"structure\"]\n",
    "structure = Structure.from_dict(ast.literal_eval(structure_str))\n"
   ]
  },
  {
   "cell_type": "code",
   "execution_count": 6,
   "id": "80b5f029",
   "metadata": {},
   "outputs": [
    {
     "name": "stdout",
     "output_type": "stream",
     "text": [
      "Full Formula (Tl2 Cr6 O16)\n",
      "Reduced Formula: TlCr3O8\n",
      "abc   :   5.086271   5.086448  15.515907\n",
      "angles:  94.743198  94.739149  64.870076\n",
      "pbc   :       True       True       True\n",
      "Sites (24)\n",
      "  #  SP            a          b         c    magmom\n",
      "---  ----  ---------  ---------  --------  --------\n",
      "  0  Tl     0.999712  -0.00055   5e-06       -0.003\n",
      "  1  Tl     0.000558   0.000114  0.499998    -0.003\n",
      "  2  Cr    -0.000144   0.000134  0.750003     2.646\n",
      "  3  Cr     0.000109  -5.7e-05   0.24999      2.647\n",
      "  4  Cr     0.375574   0.375429  0.350601     0.199\n",
      "  5  Cr     0.375275   0.375581  0.850631     0.2\n",
      "  6  Cr     0.624703   0.62443   0.149402     0.2\n",
      "  7  Cr     0.624423   0.624623  0.649387     0.2\n",
      "  8  O      0.223883   0.223652  0.277197    -0.053\n",
      "  9  O      0.223462   0.223797  0.777245    -0.053\n",
      " 10  O      0.776507   0.776184  0.222778    -0.053\n",
      " 11  O      0.776195   0.776464  0.722763    -0.053\n",
      " 12  O      0.323356   0.323444  0.447523     0.006\n",
      " 13  O      0.323154   0.323564  0.947574     0.006\n",
      " 14  O      0.676743   0.676511  0.052471     0.006\n",
      " 15  O      0.676485   0.676711  0.552449     0.006\n",
      " 16  O      0.735476   0.231371  0.338978    -0.005\n",
      " 17  O      0.735243   0.23147   0.839       -0.005\n",
      " 18  O      0.768701   0.264537  0.161002    -0.005\n",
      " 19  O      0.768527   0.264663  0.661009    -0.005\n",
      " 20  O      0.264798   0.768435  0.161015    -0.005\n",
      " 21  O      0.264482   0.768678  0.661031    -0.005\n",
      " 22  O      0.231539   0.735311  0.338968    -0.005\n",
      " 23  O      0.23124    0.735502  0.838976    -0.005\n"
     ]
    }
   ],
   "source": [
    "print(structure)"
   ]
  },
  {
   "cell_type": "code",
   "execution_count": 7,
   "id": "306386cc",
   "metadata": {},
   "outputs": [],
   "source": [
    "def get_atom_features(atomic_number: int) -> torch.Tensor:\n",
    "    try:\n",
    "        elem = Element.from_Z(atomic_number)\n",
    "\n",
    "        # One-hot encoding for periodic block\n",
    "        block_dict = {\"s\": 0, \"p\": 1, \"d\": 2, \"f\": 3}\n",
    "        block_vec = [0.0] * 4\n",
    "        if elem.block in block_dict:\n",
    "            block_vec[block_dict[elem.block]] = 1.0\n",
    "\n",
    "        features = [\n",
    "            atomic_number,\n",
    "            elem.group or 0,\n",
    "            elem.row or 0,\n",
    "            elem.atomic_mass or 0,\n",
    "            elem.atomic_radius or 0,\n",
    "            elem.electronegativity or 0,\n",
    "            elem.mendeleev_no or 0,\n",
    "            elem.nvalence or 0,\n",
    "            elem.van_der_waals_radius or 0,\n",
    "            elem.X or 0,\n",
    "            elem.covalent_radius or 0,\n",
    "            elem.thermal_conductivity or 0,\n",
    "            elem.melting_point or 0,\n",
    "            elem.boiling_point or 0,\n",
    "            elem.density or 0,\n",
    "            float(elem.is_metal),  # 1.0 if metal, else 0.0\n",
    "        ] + block_vec\n",
    "\n",
    "    except:\n",
    "        features = [0.0] * (16 + 4)  # 16 features + 4 block one-hot\n",
    "\n",
    "    return torch.tensor(features, dtype=torch.float32)\n"
   ]
  },
  {
   "cell_type": "code",
   "execution_count": 8,
   "id": "de3f678c",
   "metadata": {},
   "outputs": [],
   "source": [
    "def structure_to_graph(structure):\n",
    "    try:\n",
    "        atomic_numbers = [site.specie.number for site in structure.sites]\n",
    "        x = torch.stack([get_atom_features(Z) for Z in atomic_numbers])\n",
    "\n",
    "        sgraph = StructureGraph.from_local_env_strategy(structure, CrystalNN())\n",
    "        edge_index = []\n",
    "        edge_attr = []\n",
    "\n",
    "        for i, j, attrs in sgraph.graph.edges(data=True):\n",
    "            edge_index.append((i, j))\n",
    "\n",
    "            # Distance as edge feature\n",
    "            dist = structure.get_distance(i, j)\n",
    "            edge_attr.append([dist])\n",
    "\n",
    "        edge_index = torch.tensor(edge_index, dtype=torch.long).T\n",
    "        edge_attr = torch.tensor(edge_attr, dtype=torch.float32)\n",
    "\n",
    "        return Data(x=x, edge_index=edge_index, edge_attr=edge_attr)\n",
    "\n",
    "    except Exception as e:\n",
    "        print(f\"structure_to_graph failed: {e}\")\n",
    "        return None"
   ]
  },
  {
   "cell_type": "markdown",
   "id": "e1f71e9f",
   "metadata": {},
   "source": [
    "#### Convert structures from MP data into graphs"
   ]
  },
  {
   "cell_type": "code",
   "execution_count": 9,
   "id": "902917f0",
   "metadata": {},
   "outputs": [
    {
     "data": {
      "text/plain": [
       "' \\n# Construct graph list from MP data\\ngraph_data_list = []\\nfor i, row in df_mp.iterrows():\\n    try:\\n        structure = Structure.from_dict(ast.literal_eval(row[\"structure\"]))\\n        graph = structure_to_graph(structure)\\n        if graph is not None:\\n            graph.y = torch.tensor([row[\"band_gap\"]], dtype=torch.float32)\\n            graph_data_list.append(graph)\\n    except Exception as e:\\n        print(f\"Skipping row {i}: {e}\")\\n'"
      ]
     },
     "execution_count": 9,
     "metadata": {},
     "output_type": "execute_result"
    }
   ],
   "source": [
    "\"\"\" \n",
    "# Construct graph list from MP data\n",
    "graph_data_list = []\n",
    "for i, row in df_mp.iterrows():\n",
    "    try:\n",
    "        structure = Structure.from_dict(ast.literal_eval(row[\"structure\"]))\n",
    "        graph = structure_to_graph(structure)\n",
    "        if graph is not None:\n",
    "            graph.y = torch.tensor([row[\"band_gap\"]], dtype=torch.float32)\n",
    "            graph_data_list.append(graph)\n",
    "    except Exception as e:\n",
    "        print(f\"Skipping row {i}: {e}\")\n",
    "\"\"\" "
   ]
  },
  {
   "cell_type": "code",
   "execution_count": 10,
   "id": "3eeb1c3d",
   "metadata": {},
   "outputs": [],
   "source": [
    "\n",
    "#torch.save(graph_data_list, \"bandgap_graph_dataset_featurized2.pt\")"
   ]
  },
  {
   "cell_type": "code",
   "execution_count": 11,
   "id": "6f72aed8",
   "metadata": {},
   "outputs": [],
   "source": [
    "import torch\n",
    "from torch_geometric.data import Data\n",
    "import torch.serialization\n",
    "\n",
    "# Whitelist the known safe class\n",
    "torch.serialization.add_safe_globals([Data])\n",
    "\n",
    "# Now safely load\n",
    "graph_data_list = torch.load(\"bandgap_graph_dataset_featurized2.pt\", weights_only=False)\n"
   ]
  },
  {
   "cell_type": "code",
   "execution_count": 27,
   "id": "8fc71d12",
   "metadata": {},
   "outputs": [
    {
     "data": {
      "image/png": "[encoded data removed]",
      "text/plain": [
       "<Figure size 640x480 with 1 Axes>"
      ]
     },
     "metadata": {},
     "output_type": "display_data"
    }
   ],
   "source": [
    "g = to_networkx(graph_data_list[11])\n",
    "nx.draw(g, with_labels=True)\n",
    "plt.show()"
   ]
  },
  {
   "cell_type": "code",
   "execution_count": 13,
   "id": "738061de",
   "metadata": {},
   "outputs": [
    {
     "name": "stdout",
     "output_type": "stream",
     "text": [
      "Example graph y shape: torch.Size([1])\n"
     ]
    }
   ],
   "source": [
    "for data in graph_data_list:\n",
    "    if data.y.ndim > 1:\n",
    "        data.y = data.y.mean(dim=0, keepdim=True)\n",
    "    else:\n",
    "        data.y = data.y.mean().unsqueeze(0)\n",
    "\n",
    "print(f\"Example graph y shape: {graph_data_list[0].y.shape}\")  # should be torch.Size([1])"
   ]
  },
  {
   "cell_type": "code",
   "execution_count": 14,
   "id": "4f422188",
   "metadata": {},
   "outputs": [
    {
     "name": "stdout",
     "output_type": "stream",
     "text": [
      "Data(x=[24, 20], edge_index=[2, 36], edge_attr=[36, 1], y=[1])\n"
     ]
    }
   ],
   "source": [
    "print(graph_data_list[4])"
   ]
  },
  {
   "cell_type": "code",
   "execution_count": 15,
   "id": "f290f3aa",
   "metadata": {},
   "outputs": [],
   "source": [
    "\n",
    "\n",
    "# Normalize node features\n",
    "all_features = torch.cat([g.x for g in graph_data_list], dim=0)\n",
    "scaler = StandardScaler().fit(all_features)\n",
    "\n",
    "for graph in graph_data_list:\n",
    "    graph.x = torch.tensor(scaler.transform(graph.x), dtype=torch.float32)\n"
   ]
  },
  {
   "cell_type": "markdown",
   "id": "f4eb1cb9",
   "metadata": {},
   "source": [
    "#### Train-test split "
   ]
  },
  {
   "cell_type": "code",
   "execution_count": 16,
   "id": "0f4042a8",
   "metadata": {},
   "outputs": [],
   "source": [
    "from sklearn.preprocessing import StandardScaler\n",
    "\n",
    "# Normalize node features\n",
    "all_node_features = torch.cat([data.x for data in graph_data_list], dim=0).numpy()\n",
    "scaler_X = StandardScaler().fit(all_node_features)\n",
    "for data in graph_data_list:\n",
    "    data.x = torch.tensor(scaler_X.transform(data.x.numpy()), dtype=torch.float32)\n",
    "\n",
    "# Normalize target values (y)\n",
    "all_targets = torch.cat([data.y for data in graph_data_list], dim=0).numpy().reshape(-1, 1)\n",
    "scaler_y = StandardScaler().fit(all_targets)\n",
    "\n",
    "for data in graph_data_list:\n",
    "    data.y = torch.tensor(scaler_y.transform(data.y.reshape(-1, 1)), dtype=torch.float32)"
   ]
  },
  {
   "cell_type": "code",
   "execution_count": 17,
   "id": "855fc704",
   "metadata": {},
   "outputs": [],
   "source": [
    "train_data, test_data = train_test_split(graph_data_list, test_size=0.2, random_state=42)\n",
    "val_data, test_data = train_test_split(test_data, test_size=0.5, random_state=42)\n",
    "\n",
    "train_loader = DataLoader(train_data, batch_size=32, shuffle=True)\n",
    "val_loader = DataLoader(val_data, batch_size=32)\n",
    "test_loader = DataLoader(test_data, batch_size=32)\n"
   ]
  },
  {
   "cell_type": "code",
   "execution_count": 18,
   "id": "c91408e7",
   "metadata": {},
   "outputs": [
    {
     "name": "stdout",
     "output_type": "stream",
     "text": [
      "batch.x.shape: torch.Size([1056, 20])\n",
      "batch.batch.shape: torch.Size([1056])\n",
      "Number of graphs in batch: 32\n"
     ]
    }
   ],
   "source": [
    "for batch in train_loader:\n",
    "    print(f\"batch.x.shape: {batch.x.shape}\")\n",
    "    print(f\"batch.batch.shape: {batch.batch.shape}\")\n",
    "    print(f\"Number of graphs in batch: {batch.num_graphs}\")\n",
    "    break"
   ]
  },
  {
   "cell_type": "code",
   "execution_count": 19,
   "id": "8d251246",
   "metadata": {},
   "outputs": [
    {
     "name": "stdout",
     "output_type": "stream",
     "text": [
      "Using device: cpu\n"
     ]
    }
   ],
   "source": [
    "device = torch.device(\"cuda\" if torch.cuda.is_available() else \"cpu\")\n",
    "print(f\"Using device: {device}\")"
   ]
  },
  {
   "cell_type": "code",
   "execution_count": 20,
   "id": "02a174f8",
   "metadata": {},
   "outputs": [],
   "source": [
    "model = BayesianGCN(in_channels=graph_data_list[0].num_node_features, hidden_channels=64, out_channels=1)\n",
    "batch = next(iter(train_loader)).to(device)\n",
    "model(batch)      # should print: mu torch.Size([32]) sigma torch.Size([32]) y torch.Size([32])\n",
    "pyro.clear_param_store()\n",
    "guide = AutoDiagonalNormal(model)                      # now valid thanks to priors\n",
    "optimizer = Adam({\"lr\": 1e-3})\n",
    "svi = SVI(model, guide, optimizer, loss=Trace_ELBO())\n",
    "\n"
   ]
  },
  {
   "cell_type": "code",
   "execution_count": 21,
   "id": "fcf1cd36",
   "metadata": {},
   "outputs": [
    {
     "name": "stderr",
     "output_type": "stream",
     "text": [
      "  1%|          | 1/100 [00:07<12:48,  7.76s/it]"
     ]
    },
    {
     "name": "stdout",
     "output_type": "stream",
     "text": [
      "Epoch 1, Train Loss: 904.4488, Val Loss: 756.6678\n"
     ]
    },
    {
     "name": "stderr",
     "output_type": "stream",
     "text": [
      "  2%|▏         | 2/100 [00:17<14:58,  9.17s/it]"
     ]
    },
    {
     "name": "stdout",
     "output_type": "stream",
     "text": [
      "Epoch 2, Train Loss: 712.5123, Val Loss: 624.1837\n"
     ]
    },
    {
     "name": "stderr",
     "output_type": "stream",
     "text": [
      "  3%|▎         | 3/100 [00:27<15:29,  9.58s/it]"
     ]
    },
    {
     "name": "stdout",
     "output_type": "stream",
     "text": [
      "Epoch 3, Train Loss: 607.2059, Val Loss: 546.4294\n"
     ]
    },
    {
     "name": "stderr",
     "output_type": "stream",
     "text": [
      "  4%|▍         | 4/100 [00:36<14:45,  9.22s/it]"
     ]
    },
    {
     "name": "stdout",
     "output_type": "stream",
     "text": [
      "Epoch 4, Train Loss: 536.6977, Val Loss: 483.1711\n"
     ]
    },
    {
     "name": "stderr",
     "output_type": "stream",
     "text": [
      "  5%|▌         | 5/100 [00:45<14:20,  9.05s/it]"
     ]
    },
    {
     "name": "stdout",
     "output_type": "stream",
     "text": [
      "Epoch 5, Train Loss: 476.1962, Val Loss: 434.8757\n"
     ]
    },
    {
     "name": "stderr",
     "output_type": "stream",
     "text": [
      "  6%|▌         | 6/100 [00:53<13:39,  8.72s/it]"
     ]
    },
    {
     "name": "stdout",
     "output_type": "stream",
     "text": [
      "Epoch 6, Train Loss: 426.8462, Val Loss: 386.5302\n"
     ]
    },
    {
     "name": "stderr",
     "output_type": "stream",
     "text": [
      "  7%|▋         | 7/100 [01:01<12:59,  8.38s/it]"
     ]
    },
    {
     "name": "stdout",
     "output_type": "stream",
     "text": [
      "Epoch 7, Train Loss: 385.9631, Val Loss: 348.6448\n"
     ]
    },
    {
     "name": "stderr",
     "output_type": "stream",
     "text": [
      "  8%|▊         | 8/100 [01:08<12:26,  8.12s/it]"
     ]
    },
    {
     "name": "stdout",
     "output_type": "stream",
     "text": [
      "Epoch 8, Train Loss: 346.9031, Val Loss: 315.1281\n"
     ]
    },
    {
     "name": "stderr",
     "output_type": "stream",
     "text": [
      "  9%|▉         | 9/100 [01:16<12:02,  7.94s/it]"
     ]
    },
    {
     "name": "stdout",
     "output_type": "stream",
     "text": [
      "Epoch 9, Train Loss: 313.7741, Val Loss: 282.4679\n"
     ]
    },
    {
     "name": "stderr",
     "output_type": "stream",
     "text": [
      " 10%|█         | 10/100 [01:25<12:38,  8.43s/it]"
     ]
    },
    {
     "name": "stdout",
     "output_type": "stream",
     "text": [
      "Epoch 10, Train Loss: 285.0889, Val Loss: 257.0010\n"
     ]
    },
    {
     "name": "stderr",
     "output_type": "stream",
     "text": [
      " 11%|█         | 11/100 [01:34<12:27,  8.39s/it]"
     ]
    },
    {
     "name": "stdout",
     "output_type": "stream",
     "text": [
      "Epoch 11, Train Loss: 261.9155, Val Loss: 234.7488\n"
     ]
    },
    {
     "name": "stderr",
     "output_type": "stream",
     "text": [
      " 12%|█▏        | 12/100 [01:42<12:28,  8.51s/it]"
     ]
    },
    {
     "name": "stdout",
     "output_type": "stream",
     "text": [
      "Epoch 12, Train Loss: 242.1961, Val Loss: 216.4854\n"
     ]
    },
    {
     "name": "stderr",
     "output_type": "stream",
     "text": [
      " 13%|█▎        | 13/100 [01:51<12:12,  8.42s/it]"
     ]
    },
    {
     "name": "stdout",
     "output_type": "stream",
     "text": [
      "Epoch 13, Train Loss: 225.0930, Val Loss: 202.0047\n"
     ]
    },
    {
     "name": "stderr",
     "output_type": "stream",
     "text": [
      " 14%|█▍        | 14/100 [01:59<12:05,  8.44s/it]"
     ]
    },
    {
     "name": "stdout",
     "output_type": "stream",
     "text": [
      "Epoch 14, Train Loss: 211.6310, Val Loss: 193.4446\n"
     ]
    },
    {
     "name": "stderr",
     "output_type": "stream",
     "text": [
      " 15%|█▌        | 15/100 [02:08<12:08,  8.57s/it]"
     ]
    },
    {
     "name": "stdout",
     "output_type": "stream",
     "text": [
      "Epoch 15, Train Loss: 202.1660, Val Loss: 184.3230\n"
     ]
    },
    {
     "name": "stderr",
     "output_type": "stream",
     "text": [
      " 16%|█▌        | 16/100 [02:18<12:45,  9.12s/it]"
     ]
    },
    {
     "name": "stdout",
     "output_type": "stream",
     "text": [
      "Epoch 16, Train Loss: 197.3374, Val Loss: 181.1371\n"
     ]
    },
    {
     "name": "stderr",
     "output_type": "stream",
     "text": [
      " 17%|█▋        | 17/100 [02:27<12:13,  8.84s/it]"
     ]
    },
    {
     "name": "stdout",
     "output_type": "stream",
     "text": [
      "Epoch 17, Train Loss: 190.2159, Val Loss: 174.3442\n"
     ]
    },
    {
     "name": "stderr",
     "output_type": "stream",
     "text": [
      " 18%|█▊        | 18/100 [02:35<12:02,  8.81s/it]"
     ]
    },
    {
     "name": "stdout",
     "output_type": "stream",
     "text": [
      "Epoch 18, Train Loss: 187.9467, Val Loss: 172.0578\n"
     ]
    },
    {
     "name": "stderr",
     "output_type": "stream",
     "text": [
      " 19%|█▉        | 19/100 [02:44<11:56,  8.84s/it]"
     ]
    },
    {
     "name": "stdout",
     "output_type": "stream",
     "text": [
      "Epoch 19, Train Loss: 184.9048, Val Loss: 169.9543\n"
     ]
    },
    {
     "name": "stderr",
     "output_type": "stream",
     "text": [
      " 20%|██        | 20/100 [02:52<11:33,  8.67s/it]"
     ]
    },
    {
     "name": "stdout",
     "output_type": "stream",
     "text": [
      "Epoch 20, Train Loss: 183.4565, Val Loss: 169.0042\n"
     ]
    },
    {
     "name": "stderr",
     "output_type": "stream",
     "text": [
      " 21%|██        | 21/100 [03:03<11:57,  9.09s/it]"
     ]
    },
    {
     "name": "stdout",
     "output_type": "stream",
     "text": [
      "Epoch 21, Train Loss: 181.8189, Val Loss: 168.5921\n"
     ]
    },
    {
     "name": "stderr",
     "output_type": "stream",
     "text": [
      " 22%|██▏       | 22/100 [03:11<11:37,  8.94s/it]"
     ]
    },
    {
     "name": "stdout",
     "output_type": "stream",
     "text": [
      "Epoch 22, Train Loss: 181.3158, Val Loss: 166.9239\n"
     ]
    },
    {
     "name": "stderr",
     "output_type": "stream",
     "text": [
      " 23%|██▎       | 23/100 [03:20<11:30,  8.96s/it]"
     ]
    },
    {
     "name": "stdout",
     "output_type": "stream",
     "text": [
      "Epoch 23, Train Loss: 180.9022, Val Loss: 166.5450\n"
     ]
    },
    {
     "name": "stderr",
     "output_type": "stream",
     "text": [
      " 24%|██▍       | 24/100 [03:29<11:16,  8.90s/it]"
     ]
    },
    {
     "name": "stdout",
     "output_type": "stream",
     "text": [
      "Epoch 24, Train Loss: 179.3992, Val Loss: 166.0027\n"
     ]
    },
    {
     "name": "stderr",
     "output_type": "stream",
     "text": [
      " 25%|██▌       | 25/100 [03:38<11:01,  8.82s/it]"
     ]
    },
    {
     "name": "stdout",
     "output_type": "stream",
     "text": [
      "Epoch 25, Train Loss: 179.7024, Val Loss: 171.7812\n"
     ]
    },
    {
     "name": "stderr",
     "output_type": "stream",
     "text": [
      " 26%|██▌       | 26/100 [03:45<10:26,  8.47s/it]"
     ]
    },
    {
     "name": "stdout",
     "output_type": "stream",
     "text": [
      "Epoch 26, Train Loss: 178.9492, Val Loss: 165.8589\n"
     ]
    },
    {
     "name": "stderr",
     "output_type": "stream",
     "text": [
      " 27%|██▋       | 27/100 [03:55<10:43,  8.82s/it]"
     ]
    },
    {
     "name": "stdout",
     "output_type": "stream",
     "text": [
      "Epoch 27, Train Loss: 179.5200, Val Loss: 166.0102\n"
     ]
    },
    {
     "name": "stderr",
     "output_type": "stream",
     "text": [
      " 28%|██▊       | 28/100 [04:03<10:14,  8.53s/it]"
     ]
    },
    {
     "name": "stdout",
     "output_type": "stream",
     "text": [
      "Epoch 28, Train Loss: 178.2149, Val Loss: 164.7189\n"
     ]
    },
    {
     "name": "stderr",
     "output_type": "stream",
     "text": [
      " 29%|██▉       | 29/100 [04:10<09:43,  8.21s/it]"
     ]
    },
    {
     "name": "stdout",
     "output_type": "stream",
     "text": [
      "Epoch 29, Train Loss: 178.4661, Val Loss: 165.8050\n"
     ]
    },
    {
     "name": "stderr",
     "output_type": "stream",
     "text": [
      " 30%|███       | 30/100 [04:19<09:41,  8.31s/it]"
     ]
    },
    {
     "name": "stdout",
     "output_type": "stream",
     "text": [
      "Epoch 30, Train Loss: 178.2065, Val Loss: 164.8985\n"
     ]
    },
    {
     "name": "stderr",
     "output_type": "stream",
     "text": [
      " 31%|███       | 31/100 [04:27<09:36,  8.35s/it]"
     ]
    },
    {
     "name": "stdout",
     "output_type": "stream",
     "text": [
      "Epoch 31, Train Loss: 178.3413, Val Loss: 163.9492\n"
     ]
    },
    {
     "name": "stderr",
     "output_type": "stream",
     "text": [
      " 32%|███▏      | 32/100 [04:38<10:10,  8.98s/it]"
     ]
    },
    {
     "name": "stdout",
     "output_type": "stream",
     "text": [
      "Epoch 32, Train Loss: 177.8578, Val Loss: 164.8253\n"
     ]
    },
    {
     "name": "stderr",
     "output_type": "stream",
     "text": [
      " 33%|███▎      | 33/100 [04:46<09:47,  8.76s/it]"
     ]
    },
    {
     "name": "stdout",
     "output_type": "stream",
     "text": [
      "Epoch 33, Train Loss: 179.7904, Val Loss: 163.9563\n"
     ]
    },
    {
     "name": "stderr",
     "output_type": "stream",
     "text": [
      " 34%|███▍      | 34/100 [04:53<09:13,  8.38s/it]"
     ]
    },
    {
     "name": "stdout",
     "output_type": "stream",
     "text": [
      "Epoch 34, Train Loss: 178.3215, Val Loss: 164.8196\n"
     ]
    },
    {
     "name": "stderr",
     "output_type": "stream",
     "text": [
      " 35%|███▌      | 35/100 [05:00<08:40,  8.00s/it]"
     ]
    },
    {
     "name": "stdout",
     "output_type": "stream",
     "text": [
      "Epoch 35, Train Loss: 178.1609, Val Loss: 165.7810\n"
     ]
    },
    {
     "name": "stderr",
     "output_type": "stream",
     "text": [
      " 36%|███▌      | 36/100 [05:07<08:13,  7.71s/it]"
     ]
    },
    {
     "name": "stdout",
     "output_type": "stream",
     "text": [
      "Epoch 36, Train Loss: 177.9596, Val Loss: 165.3293\n"
     ]
    },
    {
     "name": "stderr",
     "output_type": "stream",
     "text": [
      " 37%|███▋      | 37/100 [05:15<07:53,  7.51s/it]"
     ]
    },
    {
     "name": "stdout",
     "output_type": "stream",
     "text": [
      "Epoch 37, Train Loss: 177.8249, Val Loss: 164.1391\n"
     ]
    },
    {
     "name": "stderr",
     "output_type": "stream",
     "text": [
      " 38%|███▊      | 38/100 [05:22<07:37,  7.37s/it]"
     ]
    },
    {
     "name": "stdout",
     "output_type": "stream",
     "text": [
      "Epoch 38, Train Loss: 177.9537, Val Loss: 165.5992\n"
     ]
    },
    {
     "name": "stderr",
     "output_type": "stream",
     "text": [
      " 39%|███▉      | 39/100 [05:29<07:27,  7.33s/it]"
     ]
    },
    {
     "name": "stdout",
     "output_type": "stream",
     "text": [
      "Epoch 39, Train Loss: 177.4719, Val Loss: 164.7355\n"
     ]
    },
    {
     "name": "stderr",
     "output_type": "stream",
     "text": [
      " 40%|████      | 40/100 [05:36<07:22,  7.38s/it]"
     ]
    },
    {
     "name": "stdout",
     "output_type": "stream",
     "text": [
      "Epoch 40, Train Loss: 177.5021, Val Loss: 164.0889\n"
     ]
    },
    {
     "name": "stderr",
     "output_type": "stream",
     "text": [
      " 41%|████      | 41/100 [05:43<07:09,  7.29s/it]"
     ]
    },
    {
     "name": "stdout",
     "output_type": "stream",
     "text": [
      "Epoch 41, Train Loss: 177.8944, Val Loss: 164.5961\n"
     ]
    },
    {
     "name": "stderr",
     "output_type": "stream",
     "text": [
      " 42%|████▏     | 42/100 [05:50<06:59,  7.24s/it]"
     ]
    },
    {
     "name": "stdout",
     "output_type": "stream",
     "text": [
      "Epoch 42, Train Loss: 177.7447, Val Loss: 164.2400\n"
     ]
    },
    {
     "name": "stderr",
     "output_type": "stream",
     "text": [
      " 43%|████▎     | 43/100 [05:58<06:50,  7.20s/it]"
     ]
    },
    {
     "name": "stdout",
     "output_type": "stream",
     "text": [
      "Epoch 43, Train Loss: 177.2553, Val Loss: 164.0105\n"
     ]
    },
    {
     "name": "stderr",
     "output_type": "stream",
     "text": [
      " 44%|████▍     | 44/100 [06:05<06:40,  7.15s/it]"
     ]
    },
    {
     "name": "stdout",
     "output_type": "stream",
     "text": [
      "Epoch 44, Train Loss: 178.0668, Val Loss: 164.8643\n"
     ]
    },
    {
     "name": "stderr",
     "output_type": "stream",
     "text": [
      " 45%|████▌     | 45/100 [06:14<07:12,  7.87s/it]"
     ]
    },
    {
     "name": "stdout",
     "output_type": "stream",
     "text": [
      "Epoch 45, Train Loss: 177.8223, Val Loss: 164.4226\n"
     ]
    },
    {
     "name": "stderr",
     "output_type": "stream",
     "text": [
      " 46%|████▌     | 46/100 [06:22<07:07,  7.91s/it]"
     ]
    },
    {
     "name": "stdout",
     "output_type": "stream",
     "text": [
      "Epoch 46, Train Loss: 177.4360, Val Loss: 164.5049\n"
     ]
    },
    {
     "name": "stderr",
     "output_type": "stream",
     "text": [
      " 47%|████▋     | 47/100 [06:29<06:48,  7.71s/it]"
     ]
    },
    {
     "name": "stdout",
     "output_type": "stream",
     "text": [
      "Epoch 47, Train Loss: 177.4048, Val Loss: 164.6194\n"
     ]
    },
    {
     "name": "stderr",
     "output_type": "stream",
     "text": [
      " 48%|████▊     | 48/100 [06:37<06:37,  7.64s/it]"
     ]
    },
    {
     "name": "stdout",
     "output_type": "stream",
     "text": [
      "Epoch 48, Train Loss: 177.9029, Val Loss: 164.8928\n"
     ]
    },
    {
     "name": "stderr",
     "output_type": "stream",
     "text": [
      " 49%|████▉     | 49/100 [06:44<06:22,  7.50s/it]"
     ]
    },
    {
     "name": "stdout",
     "output_type": "stream",
     "text": [
      "Epoch 49, Train Loss: 178.4051, Val Loss: 164.3770\n"
     ]
    },
    {
     "name": "stderr",
     "output_type": "stream",
     "text": [
      " 50%|█████     | 50/100 [06:51<06:07,  7.35s/it]"
     ]
    },
    {
     "name": "stdout",
     "output_type": "stream",
     "text": [
      "Epoch 50, Train Loss: 177.5150, Val Loss: 165.1398\n"
     ]
    },
    {
     "name": "stderr",
     "output_type": "stream",
     "text": [
      " 51%|█████     | 51/100 [06:58<05:57,  7.30s/it]"
     ]
    },
    {
     "name": "stdout",
     "output_type": "stream",
     "text": [
      "Epoch 51, Train Loss: 177.6053, Val Loss: 163.4414\n"
     ]
    },
    {
     "name": "stderr",
     "output_type": "stream",
     "text": [
      " 52%|█████▏    | 52/100 [07:05<05:46,  7.22s/it]"
     ]
    },
    {
     "name": "stdout",
     "output_type": "stream",
     "text": [
      "Epoch 52, Train Loss: 177.6186, Val Loss: 163.8407\n"
     ]
    },
    {
     "name": "stderr",
     "output_type": "stream",
     "text": [
      " 53%|█████▎    | 53/100 [07:12<05:35,  7.15s/it]"
     ]
    },
    {
     "name": "stdout",
     "output_type": "stream",
     "text": [
      "Epoch 53, Train Loss: 177.5166, Val Loss: 164.3021\n"
     ]
    },
    {
     "name": "stderr",
     "output_type": "stream",
     "text": [
      " 54%|█████▍    | 54/100 [07:19<05:27,  7.12s/it]"
     ]
    },
    {
     "name": "stdout",
     "output_type": "stream",
     "text": [
      "Epoch 54, Train Loss: 178.0496, Val Loss: 164.0728\n"
     ]
    },
    {
     "name": "stderr",
     "output_type": "stream",
     "text": [
      " 55%|█████▌    | 55/100 [07:26<05:19,  7.11s/it]"
     ]
    },
    {
     "name": "stdout",
     "output_type": "stream",
     "text": [
      "Epoch 55, Train Loss: 177.6911, Val Loss: 164.1890\n"
     ]
    },
    {
     "name": "stderr",
     "output_type": "stream",
     "text": [
      " 56%|█████▌    | 56/100 [07:34<05:14,  7.14s/it]"
     ]
    },
    {
     "name": "stdout",
     "output_type": "stream",
     "text": [
      "Epoch 56, Train Loss: 177.4863, Val Loss: 163.8589\n"
     ]
    },
    {
     "name": "stderr",
     "output_type": "stream",
     "text": [
      " 57%|█████▋    | 57/100 [07:41<05:14,  7.32s/it]"
     ]
    },
    {
     "name": "stdout",
     "output_type": "stream",
     "text": [
      "Epoch 57, Train Loss: 177.2976, Val Loss: 164.3339\n"
     ]
    },
    {
     "name": "stderr",
     "output_type": "stream",
     "text": [
      " 58%|█████▊    | 58/100 [07:53<05:56,  8.48s/it]"
     ]
    },
    {
     "name": "stdout",
     "output_type": "stream",
     "text": [
      "Epoch 58, Train Loss: 177.3664, Val Loss: 164.0324\n"
     ]
    },
    {
     "name": "stderr",
     "output_type": "stream",
     "text": [
      " 59%|█████▉    | 59/100 [08:04<06:18,  9.22s/it]"
     ]
    },
    {
     "name": "stdout",
     "output_type": "stream",
     "text": [
      "Epoch 59, Train Loss: 177.7403, Val Loss: 164.8941\n"
     ]
    },
    {
     "name": "stderr",
     "output_type": "stream",
     "text": [
      " 60%|██████    | 60/100 [08:15<06:36,  9.90s/it]"
     ]
    },
    {
     "name": "stdout",
     "output_type": "stream",
     "text": [
      "Epoch 60, Train Loss: 177.3215, Val Loss: 164.2641\n"
     ]
    },
    {
     "name": "stderr",
     "output_type": "stream",
     "text": [
      " 61%|██████    | 61/100 [08:26<06:44, 10.37s/it]"
     ]
    },
    {
     "name": "stdout",
     "output_type": "stream",
     "text": [
      "Epoch 61, Train Loss: 177.6452, Val Loss: 164.5055\n"
     ]
    },
    {
     "name": "stderr",
     "output_type": "stream",
     "text": [
      " 62%|██████▏   | 62/100 [08:38<06:43, 10.63s/it]"
     ]
    },
    {
     "name": "stdout",
     "output_type": "stream",
     "text": [
      "Epoch 62, Train Loss: 177.7908, Val Loss: 164.0871\n"
     ]
    },
    {
     "name": "stderr",
     "output_type": "stream",
     "text": [
      " 63%|██████▎   | 63/100 [08:49<06:39, 10.81s/it]"
     ]
    },
    {
     "name": "stdout",
     "output_type": "stream",
     "text": [
      "Epoch 63, Train Loss: 177.8656, Val Loss: 165.3136\n"
     ]
    },
    {
     "name": "stderr",
     "output_type": "stream",
     "text": [
      " 64%|██████▍   | 64/100 [09:00<06:30, 10.85s/it]"
     ]
    },
    {
     "name": "stdout",
     "output_type": "stream",
     "text": [
      "Epoch 64, Train Loss: 177.6166, Val Loss: 164.1595\n"
     ]
    },
    {
     "name": "stderr",
     "output_type": "stream",
     "text": [
      " 65%|██████▌   | 65/100 [09:11<06:19, 10.83s/it]"
     ]
    },
    {
     "name": "stdout",
     "output_type": "stream",
     "text": [
      "Epoch 65, Train Loss: 177.6371, Val Loss: 163.9172\n"
     ]
    },
    {
     "name": "stderr",
     "output_type": "stream",
     "text": [
      " 66%|██████▌   | 66/100 [09:22<06:09, 10.85s/it]"
     ]
    },
    {
     "name": "stdout",
     "output_type": "stream",
     "text": [
      "Epoch 66, Train Loss: 177.3706, Val Loss: 165.3996\n"
     ]
    },
    {
     "name": "stderr",
     "output_type": "stream",
     "text": [
      " 67%|██████▋   | 67/100 [09:33<06:00, 10.91s/it]"
     ]
    },
    {
     "name": "stdout",
     "output_type": "stream",
     "text": [
      "Epoch 67, Train Loss: 177.1732, Val Loss: 164.3975\n"
     ]
    },
    {
     "name": "stderr",
     "output_type": "stream",
     "text": [
      " 68%|██████▊   | 68/100 [09:43<05:44, 10.77s/it]"
     ]
    },
    {
     "name": "stdout",
     "output_type": "stream",
     "text": [
      "Epoch 68, Train Loss: 177.6017, Val Loss: 164.0650\n"
     ]
    },
    {
     "name": "stderr",
     "output_type": "stream",
     "text": [
      " 69%|██████▉   | 69/100 [09:54<05:32, 10.73s/it]"
     ]
    },
    {
     "name": "stdout",
     "output_type": "stream",
     "text": [
      "Epoch 69, Train Loss: 177.8754, Val Loss: 164.8195\n"
     ]
    },
    {
     "name": "stderr",
     "output_type": "stream",
     "text": [
      " 70%|███████   | 70/100 [10:06<05:35, 11.18s/it]"
     ]
    },
    {
     "name": "stdout",
     "output_type": "stream",
     "text": [
      "Epoch 70, Train Loss: 177.7828, Val Loss: 164.3349\n"
     ]
    },
    {
     "name": "stderr",
     "output_type": "stream",
     "text": [
      " 71%|███████   | 71/100 [10:19<05:39, 11.69s/it]"
     ]
    },
    {
     "name": "stdout",
     "output_type": "stream",
     "text": [
      "Epoch 71, Train Loss: 177.4519, Val Loss: 164.2822\n"
     ]
    },
    {
     "name": "stderr",
     "output_type": "stream",
     "text": [
      " 72%|███████▏  | 72/100 [10:33<05:47, 12.40s/it]"
     ]
    },
    {
     "name": "stdout",
     "output_type": "stream",
     "text": [
      "Epoch 72, Train Loss: 177.4850, Val Loss: 164.3869\n"
     ]
    },
    {
     "name": "stderr",
     "output_type": "stream",
     "text": [
      " 73%|███████▎  | 73/100 [10:46<05:38, 12.53s/it]"
     ]
    },
    {
     "name": "stdout",
     "output_type": "stream",
     "text": [
      "Epoch 73, Train Loss: 177.2990, Val Loss: 164.2307\n"
     ]
    },
    {
     "name": "stderr",
     "output_type": "stream",
     "text": [
      " 74%|███████▍  | 74/100 [10:58<05:23, 12.44s/it]"
     ]
    },
    {
     "name": "stdout",
     "output_type": "stream",
     "text": [
      "Epoch 74, Train Loss: 178.0879, Val Loss: 164.0783\n"
     ]
    },
    {
     "name": "stderr",
     "output_type": "stream",
     "text": [
      " 75%|███████▌  | 75/100 [11:10<05:09, 12.36s/it]"
     ]
    },
    {
     "name": "stdout",
     "output_type": "stream",
     "text": [
      "Epoch 75, Train Loss: 177.7037, Val Loss: 164.0900\n"
     ]
    },
    {
     "name": "stderr",
     "output_type": "stream",
     "text": [
      " 76%|███████▌  | 76/100 [11:22<04:54, 12.26s/it]"
     ]
    },
    {
     "name": "stdout",
     "output_type": "stream",
     "text": [
      "Epoch 76, Train Loss: 177.4975, Val Loss: 164.6229\n"
     ]
    },
    {
     "name": "stderr",
     "output_type": "stream",
     "text": [
      " 77%|███████▋  | 77/100 [11:36<04:53, 12.76s/it]"
     ]
    },
    {
     "name": "stdout",
     "output_type": "stream",
     "text": [
      "Epoch 77, Train Loss: 177.5129, Val Loss: 164.3238\n"
     ]
    },
    {
     "name": "stderr",
     "output_type": "stream",
     "text": [
      " 78%|███████▊  | 78/100 [11:51<04:54, 13.37s/it]"
     ]
    },
    {
     "name": "stdout",
     "output_type": "stream",
     "text": [
      "Epoch 78, Train Loss: 177.5322, Val Loss: 164.7293\n"
     ]
    },
    {
     "name": "stderr",
     "output_type": "stream",
     "text": [
      " 79%|███████▉  | 79/100 [12:08<05:07, 14.63s/it]"
     ]
    },
    {
     "name": "stdout",
     "output_type": "stream",
     "text": [
      "Epoch 79, Train Loss: 177.5947, Val Loss: 164.6848\n"
     ]
    },
    {
     "name": "stderr",
     "output_type": "stream",
     "text": [
      " 80%|████████  | 80/100 [12:21<04:41, 14.07s/it]"
     ]
    },
    {
     "name": "stdout",
     "output_type": "stream",
     "text": [
      "Epoch 80, Train Loss: 177.2274, Val Loss: 164.4285\n"
     ]
    },
    {
     "name": "stderr",
     "output_type": "stream",
     "text": [
      " 81%|████████  | 81/100 [12:35<04:26, 14.02s/it]"
     ]
    },
    {
     "name": "stdout",
     "output_type": "stream",
     "text": [
      "Epoch 81, Train Loss: 177.6410, Val Loss: 164.3980\n"
     ]
    },
    {
     "name": "stderr",
     "output_type": "stream",
     "text": [
      " 82%|████████▏ | 82/100 [12:52<04:26, 14.79s/it]"
     ]
    },
    {
     "name": "stdout",
     "output_type": "stream",
     "text": [
      "Epoch 82, Train Loss: 177.7050, Val Loss: 163.9995\n"
     ]
    },
    {
     "name": "stderr",
     "output_type": "stream",
     "text": [
      " 83%|████████▎ | 83/100 [13:04<03:56, 13.93s/it]"
     ]
    },
    {
     "name": "stdout",
     "output_type": "stream",
     "text": [
      "Epoch 83, Train Loss: 177.2023, Val Loss: 164.6229\n"
     ]
    },
    {
     "name": "stderr",
     "output_type": "stream",
     "text": [
      " 84%|████████▍ | 84/100 [13:19<03:47, 14.25s/it]"
     ]
    },
    {
     "name": "stdout",
     "output_type": "stream",
     "text": [
      "Epoch 84, Train Loss: 177.4200, Val Loss: 164.4619\n"
     ]
    },
    {
     "name": "stderr",
     "output_type": "stream",
     "text": [
      " 85%|████████▌ | 85/100 [13:34<03:41, 14.75s/it]"
     ]
    },
    {
     "name": "stdout",
     "output_type": "stream",
     "text": [
      "Epoch 85, Train Loss: 177.5974, Val Loss: 164.4578\n"
     ]
    },
    {
     "name": "stderr",
     "output_type": "stream",
     "text": [
      " 86%|████████▌ | 86/100 [13:48<03:22, 14.49s/it]"
     ]
    },
    {
     "name": "stdout",
     "output_type": "stream",
     "text": [
      "Epoch 86, Train Loss: 177.5695, Val Loss: 164.6531\n"
     ]
    },
    {
     "name": "stderr",
     "output_type": "stream",
     "text": [
      " 87%|████████▋ | 87/100 [14:00<02:55, 13.48s/it]"
     ]
    },
    {
     "name": "stdout",
     "output_type": "stream",
     "text": [
      "Epoch 87, Train Loss: 177.7212, Val Loss: 164.3699\n"
     ]
    },
    {
     "name": "stderr",
     "output_type": "stream",
     "text": [
      " 88%|████████▊ | 88/100 [14:11<02:34, 12.87s/it]"
     ]
    },
    {
     "name": "stdout",
     "output_type": "stream",
     "text": [
      "Epoch 88, Train Loss: 177.8000, Val Loss: 164.2767\n"
     ]
    },
    {
     "name": "stderr",
     "output_type": "stream",
     "text": [
      " 89%|████████▉ | 89/100 [14:22<02:15, 12.36s/it]"
     ]
    },
    {
     "name": "stdout",
     "output_type": "stream",
     "text": [
      "Epoch 89, Train Loss: 177.4722, Val Loss: 164.1627\n"
     ]
    },
    {
     "name": "stderr",
     "output_type": "stream",
     "text": [
      " 90%|█████████ | 90/100 [14:34<02:01, 12.12s/it]"
     ]
    },
    {
     "name": "stdout",
     "output_type": "stream",
     "text": [
      "Epoch 90, Train Loss: 177.4532, Val Loss: 163.9544\n"
     ]
    },
    {
     "name": "stderr",
     "output_type": "stream",
     "text": [
      " 91%|█████████ | 91/100 [14:45<01:46, 11.85s/it]"
     ]
    },
    {
     "name": "stdout",
     "output_type": "stream",
     "text": [
      "Epoch 91, Train Loss: 177.3059, Val Loss: 164.6900\n"
     ]
    },
    {
     "name": "stderr",
     "output_type": "stream",
     "text": [
      " 92%|█████████▏| 92/100 [14:56<01:33, 11.69s/it]"
     ]
    },
    {
     "name": "stdout",
     "output_type": "stream",
     "text": [
      "Epoch 92, Train Loss: 177.7977, Val Loss: 164.6640\n"
     ]
    },
    {
     "name": "stderr",
     "output_type": "stream",
     "text": [
      " 93%|█████████▎| 93/100 [15:07<01:19, 11.32s/it]"
     ]
    },
    {
     "name": "stdout",
     "output_type": "stream",
     "text": [
      "Epoch 93, Train Loss: 177.5670, Val Loss: 163.5803\n"
     ]
    },
    {
     "name": "stderr",
     "output_type": "stream",
     "text": [
      " 94%|█████████▍| 94/100 [15:18<01:08, 11.38s/it]"
     ]
    },
    {
     "name": "stdout",
     "output_type": "stream",
     "text": [
      "Epoch 94, Train Loss: 177.4568, Val Loss: 164.2133\n"
     ]
    },
    {
     "name": "stderr",
     "output_type": "stream",
     "text": [
      " 95%|█████████▌| 95/100 [15:29<00:56, 11.30s/it]"
     ]
    },
    {
     "name": "stdout",
     "output_type": "stream",
     "text": [
      "Epoch 95, Train Loss: 177.3312, Val Loss: 164.2392\n"
     ]
    },
    {
     "name": "stderr",
     "output_type": "stream",
     "text": [
      " 96%|█████████▌| 96/100 [15:40<00:44, 11.22s/it]"
     ]
    },
    {
     "name": "stdout",
     "output_type": "stream",
     "text": [
      "Epoch 96, Train Loss: 177.5059, Val Loss: 164.9708\n"
     ]
    },
    {
     "name": "stderr",
     "output_type": "stream",
     "text": [
      " 97%|█████████▋| 97/100 [15:52<00:33, 11.23s/it]"
     ]
    },
    {
     "name": "stdout",
     "output_type": "stream",
     "text": [
      "Epoch 97, Train Loss: 177.4915, Val Loss: 164.4155\n"
     ]
    },
    {
     "name": "stderr",
     "output_type": "stream",
     "text": [
      " 98%|█████████▊| 98/100 [16:02<00:22, 11.07s/it]"
     ]
    },
    {
     "name": "stdout",
     "output_type": "stream",
     "text": [
      "Epoch 98, Train Loss: 177.6925, Val Loss: 164.3063\n"
     ]
    },
    {
     "name": "stderr",
     "output_type": "stream",
     "text": [
      " 99%|█████████▉| 99/100 [16:15<00:11, 11.58s/it]"
     ]
    },
    {
     "name": "stdout",
     "output_type": "stream",
     "text": [
      "Epoch 99, Train Loss: 177.6670, Val Loss: 163.7089\n"
     ]
    },
    {
     "name": "stderr",
     "output_type": "stream",
     "text": [
      "100%|██████████| 100/100 [16:26<00:00,  9.86s/it]"
     ]
    },
    {
     "name": "stdout",
     "output_type": "stream",
     "text": [
      "Epoch 100, Train Loss: 177.5526, Val Loss: 164.0654\n"
     ]
    },
    {
     "name": "stderr",
     "output_type": "stream",
     "text": [
      "\n"
     ]
    }
   ],
   "source": [
    "\n",
    "num_epochs = 100\n",
    "loss_history = []\n",
    "\n",
    "train_losses = []\n",
    "val_losses = []\n",
    "\n",
    "for epoch in trange(num_epochs):\n",
    "    model.train()\n",
    "    epoch_loss = 0\n",
    "\n",
    "    for batch in train_loader:\n",
    "        batch = batch.to(device)\n",
    "        epoch_loss += svi.step(batch)\n",
    "\n",
    "    train_losses.append(epoch_loss / len(train_loader))\n",
    "\n",
    "    # Validation loss\n",
    "    model.eval()\n",
    "    val_loss = 0\n",
    "    with torch.no_grad():\n",
    "        for batch in val_loader:\n",
    "            batch = batch.to(device)\n",
    "            val_loss += svi.evaluate_loss(batch)\n",
    "\n",
    "    val_losses.append(val_loss / len(val_loader))\n",
    "\n",
    "    print(f\"Epoch {epoch + 1}, Train Loss: {train_losses[-1]:.4f}, Val Loss: {val_losses[-1]:.4f}\")\n",
    "\n"
   ]
  },
  {
   "cell_type": "code",
   "execution_count": 22,
   "id": "77df6ea2",
   "metadata": {},
   "outputs": [
    {
     "data": {
      "image/png": "[encoded data removed]",
      "text/plain": [
       "<Figure size 800x500 with 1 Axes>"
      ]
     },
     "metadata": {},
     "output_type": "display_data"
    }
   ],
   "source": [
    "plt.figure(figsize=(8, 5))\n",
    "plt.plot(train_losses, label='Train Loss')\n",
    "plt.plot(val_losses, label='Validation Loss')\n",
    "plt.xlabel('Epoch')\n",
    "plt.ylabel('Loss')\n",
    "plt.title('Training and Validation Loss')\n",
    "plt.legend()\n",
    "plt.grid(True)\n",
    "plt.show()\n"
   ]
  },
  {
   "cell_type": "code",
   "execution_count": null,
   "id": "8b0629a2",
   "metadata": {},
   "outputs": [],
   "source": []
  },
  {
   "cell_type": "markdown",
   "id": "c2d01f08",
   "metadata": {},
   "source": [
    "#### Predict bandgaps and uncertainity "
   ]
  },
  {
   "cell_type": "code",
   "execution_count": 25,
   "id": "80189481",
   "metadata": {},
   "outputs": [
    {
     "name": "stdout",
     "output_type": "stream",
     "text": [
      "R²  : -0.0005431175231933594\n",
      "MAE : 1.220267415046692\n",
      "RMSE: 1.520917872687679\n"
     ]
    }
   ],
   "source": [
    "# ───────────────────────────────────────────────────────\n",
    "# draw more than one posterior sample\n",
    "predictive = Predictive(\n",
    "    model, guide=guide,\n",
    "    num_samples=100,              # e.g. 100 Monte-Carlo draws\n",
    "    return_sites=(\"mu_det\",)      # make sure \"mu_det\" exists in the model/guide\n",
    ")\n",
    "\n",
    "all_means, all_stds, all_true = [], [], []\n",
    "\n",
    "with torch.no_grad():\n",
    "    for batch in test_loader:\n",
    "        batch = batch.to(device)\n",
    "        y_saved, batch.y = batch.y, None      # break leakage\n",
    "\n",
    "        \n",
    "        mu_samples = predictive(batch)[\"mu_det\"]   # [S, B]  (S = 100)\n",
    "        # ---- mean over samples, then FLATTEN ----\n",
    "        all_means.append(mu_samples.mean(0).reshape(-1).cpu())\n",
    "        all_stds .append(mu_samples.std (0).reshape(-1).cpu())\n",
    "        all_true .append(y_saved.reshape(-1).cpu())\n",
    "\n",
    "# Concatenate\n",
    "mean_pred = torch.cat(all_means).numpy()\n",
    "std_pred  = torch.cat(all_stds ).numpy()\n",
    "y_true    = torch.cat(all_true ).numpy()\n",
    "\n",
    "# De-normalise\n",
    "mean_pred_actual = scaler_y.inverse_transform(mean_pred.reshape(-1, 1)).ravel()\n",
    "y_true_actual    = scaler_y.inverse_transform(y_true.reshape(-1, 1)).ravel()\n",
    "\n",
    "# If you used StandardScaler, scale std’s too:\n",
    "# std_pred_actual = std_pred * scaler_y.scale_\n",
    "std_pred_actual = std_pred        # keep as-is for min-max scaling\n",
    "\n",
    "# Evaluation\n",
    "print(\"R²  :\", r2_score(y_true_actual, mean_pred_actual))\n",
    "print(\"MAE :\", mean_absolute_error(y_true_actual, mean_pred_actual))\n",
    "print(\"RMSE:\", np.sqrt(mean_squared_error(y_true_actual, mean_pred_actual)))\n"
   ]
  },
  {
   "cell_type": "markdown",
   "id": "2152f3aa",
   "metadata": {},
   "source": [
    "#### Plot predictions and uncertainity\n"
   ]
  },
  {
   "cell_type": "code",
   "execution_count": null,
   "id": "cfe6f720",
   "metadata": {},
   "outputs": [],
   "source": [
    "import matplotlib.pyplot as plt\n",
    "\n",
    "def plot_predictions(y_true, y_pred):\n",
    "    plt.figure(figsize=(6, 6))\n",
    "    plt.scatter(y_true, y_pred, alpha=0.5)\n",
    "    plt.plot([min(y_true), max(y_true)], [min(y_true), max(y_true)], 'r--')\n",
    "    plt.xlabel('True Band Gap (eV)')\n",
    "    plt.ylabel('Predicted Band Gap (eV)')\n",
    "    plt.title('Prediction vs True Band Gap')\n",
    "    plt.grid(True)\n",
    "    plt.show()\n",
    "\n",
    "plot_predictions(y_true_actual, mean_pred_actual)"
   ]
  },
  {
   "cell_type": "code",
   "execution_count": null,
   "id": "b5c91928",
   "metadata": {},
   "outputs": [],
   "source": [
    "# Scatter plot: predicted vs true\n",
    "plt.figure(figsize=(6, 6))\n",
    "plt.scatter(y_true, mean_pred, alpha=0.6, edgecolors=\"k\")\n",
    "plt.plot([y_true.min(), y_true.max()], [y_true.min(), y_true.max()], 'r--', label='Ideal')\n",
    "\n",
    "plt.xlabel(\"True Value\")\n",
    "plt.ylabel(\"Predicted Value\")\n",
    "plt.title(\"Predicted vs True\")\n",
    "plt.legend()\n",
    "plt.grid(True)\n",
    "plt.tight_layout()\n",
    "plt.show()\n",
    "\n"
   ]
  },
  {
   "cell_type": "code",
   "execution_count": null,
   "id": "1c41c004",
   "metadata": {},
   "outputs": [],
   "source": [
    "def plot_uncertainty(\n",
    "    x, y_true, y_pred, y_std, outlier_mask, formulas=None,\n",
    "    title=\"Uncertainty Prediction (±σ)\", file_name=None\n",
    "):\n",
    "    # Compute CI bounds\n",
    "    lower = y_pred - y_std\n",
    "    upper = y_pred + y_std\n",
    "\n",
    "    # Outlier handling\n",
    "    outlier_indices = np.where(outlier_mask)[0]\n",
    "    outlier_preds = y_pred[outlier_indices]\n",
    "\n",
    "    # Begin plot\n",
    "    plt.figure(figsize=(14, 6))\n",
    "    plt.fill_between(x, lower, upper, color='blue', alpha=0.3, label='Prediction ±σ')\n",
    "    plt.plot(x, y_pred, 'o', markersize=3, color='blue', label='Predicted Band Gaps')\n",
    "    plt.plot(x, y_true, 'k.', markersize=3, label='True Band Gaps')\n",
    "    plt.scatter(x[outlier_indices], outlier_preds, edgecolor='black', facecolor='red', s=80, label='Outliers')\n",
    "\n",
    "    # Annotate outliers (optional)\n",
    "    if formulas is not None:\n",
    "        for i, idx in enumerate(outlier_indices):\n",
    "            plt.annotate(\n",
    "                f\"{formulas[i]}\\n{y_true[idx]:.2f} eV\",\n",
    "                (x[idx], y_pred[idx]),\n",
    "                textcoords=\"offset points\",\n",
    "                xytext=(0, 12),\n",
    "                ha='center',\n",
    "                fontsize=8,\n",
    "                color='darkred'\n",
    "            )\n",
    "\n",
    "    plt.xlabel(\"Test Sample Index\")\n",
    "    plt.ylabel(\"Band Gap (eV)\")\n",
    "    plt.title(title)\n",
    "    plt.legend()\n",
    "    plt.grid(True)\n",
    "    plt.tight_layout()\n",
    "    if file_name:\n",
    "        plt.savefig(file_name, dpi=300)\n",
    "    else:\n",
    "        plt.show()\n"
   ]
  },
  {
   "cell_type": "code",
   "execution_count": null,
   "id": "f450463e",
   "metadata": {},
   "outputs": [],
   "source": [
    "# Identify outliers (optional)\n",
    "error = np.abs(mean_pred_actual - y_true_actual)\n",
    "outlier_mask = error > 0.5  # Customize your own threshold\n",
    "\n",
    "# Plot\n",
    "plot_uncertainty(\n",
    "    x=np.arange(len(y_true_actual)),\n",
    "    y_true=y_true_actual,\n",
    "    y_pred=mean_pred_actual,\n",
    "    y_std=std_pred_actual,\n",
    "    outlier_mask=outlier_mask,\n",
    "    title=\"Bayesian GCN Prediction ±σ\"\n",
    ")\n"
   ]
  }
 ],
 "metadata": {
  "kernelspec": {
   "display_name": "base",
   "language": "python",
   "name": "python3"
  },
  "language_info": {
   "codemirror_mode": {
    "name": "ipython",
    "version": 3
   },
   "file_extension": ".py",
   "mimetype": "text/x-python",
   "name": "python",
   "nbconvert_exporter": "python",
   "pygments_lexer": "ipython3",
   "version": "3.11.7"
  }
 },
 "nbformat": 4,
 "nbformat_minor": 5
}
